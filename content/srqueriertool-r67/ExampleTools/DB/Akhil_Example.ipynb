{
 "cells": [
  {
   "cell_type": "markdown",
   "id": "c4ca180e",
   "metadata": {},
   "source": [
    "# Libraries"
   ]
  },
  {
   "cell_type": "code",
   "execution_count": 5,
   "id": "68bb3737",
   "metadata": {},
   "outputs": [],
   "source": [
    "import nanohub.remote as nr #Library required to access the remoteDB\n",
    "import json\n",
    "import pandas as pd\n",
    "import os\n",
    "import math\n",
    "import numpy as np"
   ]
  },
  {
   "cell_type": "markdown",
   "id": "c392cee9",
   "metadata": {},
   "source": [
    "# Querying Sim2Ls: meltHEAS"
   ]
  },
  {
   "cell_type": "markdown",
   "id": "7c736abb",
   "metadata": {},
   "source": [
    "<font color='black' size=4 >Authentication Credentials </font> <font color='red' size=3 > * Do not modify </font>"
   ]
  },
  {
   "cell_type": "code",
   "execution_count": 9,
   "id": "994039b2",
   "metadata": {},
   "outputs": [],
   "source": [
    "auth_data = { 'grant_type' : 'tool' }\n",
    "with open(os.environ[\"SESSIONDIR\"]+\"/resources\") as file:\n",
    "    lines = [line.split(\" \", 1) for line in file.readlines()]\n",
    "    properties = {line[0].strip(): line[1].strip() for line in lines if len(line)==2}\n",
    "    auth_data[\"sessiontoken\"] = properties[\"session_token\"]\n",
    "    auth_data[\"sessionnum\"] = properties[\"sessionid\"]\n",
    "    \n",
    "session = nr.Tools(auth_data)"
   ]
  },
  {
   "cell_type": "markdown",
   "id": "491259e3",
   "metadata": {},
   "source": [
    "### Tool Choice: Inputs and Outputs"
   ]
  },
  {
   "cell_type": "code",
   "execution_count": 10,
   "id": "05e18f18",
   "metadata": {},
   "outputs": [
    {
     "name": "stdout",
     "output_type": "stream",
     "text": [
      "Things you can query as inputs: \n",
      " ['Names', 'affiliations', 'Chemical_Formula', 'Ref_ID', 'Formula_ID', 'Temp', 'MassGain_Unit', 'Time_Unit', 'p_O2', 'p_O2_Unit', 'p_other_gases', 'Disintegration_Time', 'Recession_Rate', 'Oxide_Thickness', 'Oxide_Time', 'Oxides_Formed', 'Phases_Present', 'Experiment_Method', 'Surface_Preparation', 'Heat_Treatment', 'Fabrication_Method', 'Grain_Size', 'gas_flow_rate', 'shape', 'height', 'thickness', 'width', 'Ref', 'Year_Publish', 'Mass_Gain_vs_Time_data']\n",
      "\n",
      "Things you can query as outputs: \n",
      " ['time', 'min_BIC_model', 'Time_switch_point', 'Rate_constant_1', 'Rate_constant_2']\n"
     ]
    }
   ],
   "source": [
    "tool = 'refoxdb'  # Name of the Sim2L you are accessing\n",
    "\n",
    "req_json = session.requestPost('dbexplorer/dbexplorer/tool_detail?simtool=true', data={'tool': tool}) #Query\n",
    "req_json = req_json.json() # Turning the resulting request into a JSON file\n",
    "parameters = req_json['results'] # Extracting parameters (inputs / outputs)\n",
    "\n",
    "inputs = list(parameters[0][tool]['input'].keys()) # Get list of inputs\n",
    "print(\"Things you can query as inputs: \\n\", inputs)\n",
    "print(\"\")\n",
    "outputs = list(parameters[0][tool]['output'].keys()) # Get list of outputs\n",
    "print(\"Things you can query as outputs: \\n\", outputs)"
   ]
  },
  {
   "cell_type": "markdown",
   "id": "151d3bb4",
   "metadata": {},
   "source": [
    "### Tool Query: Filters and Requests"
   ]
  },
  {
   "cell_type": "code",
   "execution_count": 11,
   "id": "c5e7dcfd",
   "metadata": {},
   "outputs": [
    {
     "name": "stdout",
     "output_type": "stream",
     "text": [
      "(1146, 7)\n"
     ]
    },
    {
     "data": {
      "text/html": [
       "<div>\n",
       "<style scoped>\n",
       "    .dataframe tbody tr th:only-of-type {\n",
       "        vertical-align: middle;\n",
       "    }\n",
       "\n",
       "    .dataframe tbody tr th {\n",
       "        vertical-align: top;\n",
       "    }\n",
       "\n",
       "    .dataframe thead th {\n",
       "        text-align: right;\n",
       "    }\n",
       "</style>\n",
       "<table border=\"1\" class=\"dataframe\">\n",
       "  <thead>\n",
       "    <tr style=\"text-align: right;\">\n",
       "      <th></th>\n",
       "      <th>squid</th>\n",
       "      <th>input.Names</th>\n",
       "      <th>input.Year_Publish</th>\n",
       "      <th>output.time</th>\n",
       "      <th>output.min_BIC_model</th>\n",
       "      <th>output.Time_switch_point</th>\n",
       "      <th>output.Rate_constant_1</th>\n",
       "    </tr>\n",
       "  </thead>\n",
       "  <tbody>\n",
       "    <tr>\n",
       "      <th>0</th>\n",
       "      <td>refoxdb/r36/092654417811518bce4306f5f68daa15f1...</td>\n",
       "      <td></td>\n",
       "      <td>1957.0</td>\n",
       "      <td>[[0.099675692101747], [0.22934640782052], [0.3...</td>\n",
       "      <td>quadratic-quadratic</td>\n",
       "      <td>1.706563</td>\n",
       "      <td>45.572613</td>\n",
       "    </tr>\n",
       "    <tr>\n",
       "      <th>1</th>\n",
       "      <td>refoxdb/r36/6e4478033d807d59d38a62d9283941fc21...</td>\n",
       "      <td></td>\n",
       "      <td>1956.0</td>\n",
       "      <td>[[66.570825159081], [167.60178020205], [386.83...</td>\n",
       "      <td>linear-quadratic</td>\n",
       "      <td>6055.000000</td>\n",
       "      <td>0.004567</td>\n",
       "    </tr>\n",
       "    <tr>\n",
       "      <th>2</th>\n",
       "      <td>refoxdb/r36/146044012b19a1ec2d08a5fe50b577320a...</td>\n",
       "      <td></td>\n",
       "      <td>1956.0</td>\n",
       "      <td>[[40.429994444907], [96.341075487465], [152.99...</td>\n",
       "      <td>linear-linear</td>\n",
       "      <td>1015.000000</td>\n",
       "      <td>0.034316</td>\n",
       "    </tr>\n",
       "    <tr>\n",
       "      <th>3</th>\n",
       "      <td>refoxdb/r36/64f81374a2de1b89471602286050cb9beb...</td>\n",
       "      <td></td>\n",
       "      <td>1956.0</td>\n",
       "      <td>[[24.92329109091], [122.25778256367], [274.127...</td>\n",
       "      <td>quadratic-linear</td>\n",
       "      <td>2335.000000</td>\n",
       "      <td>0.355401</td>\n",
       "    </tr>\n",
       "    <tr>\n",
       "      <th>4</th>\n",
       "      <td>refoxdb/r36/1883fdc89ff5a3cba9d76a4a0db838cb24...</td>\n",
       "      <td></td>\n",
       "      <td>1956.0</td>\n",
       "      <td>[[39.97604506481], [53.858512309028], [117.757...</td>\n",
       "      <td>quadratic-linear</td>\n",
       "      <td>1752.000000</td>\n",
       "      <td>1.278545</td>\n",
       "    </tr>\n",
       "    <tr>\n",
       "      <th>...</th>\n",
       "      <td>...</td>\n",
       "      <td>...</td>\n",
       "      <td>...</td>\n",
       "      <td>...</td>\n",
       "      <td>...</td>\n",
       "      <td>...</td>\n",
       "      <td>...</td>\n",
       "    </tr>\n",
       "    <tr>\n",
       "      <th>1141</th>\n",
       "      <td>refoxdb/r45/9f0306b2f0a7c1c328d6f2cc905ce46947...</td>\n",
       "      <td>nan</td>\n",
       "      <td>1976.0</td>\n",
       "      <td>[[0.215592709], [0.524780556], [0.87888956], [...</td>\n",
       "      <td>quartic-log</td>\n",
       "      <td>3.968007</td>\n",
       "      <td>2.206352</td>\n",
       "    </tr>\n",
       "    <tr>\n",
       "      <th>1142</th>\n",
       "      <td>refoxdb/r45/976298b93ef60e865e20ca4a3b3bea67f8...</td>\n",
       "      <td>nan</td>\n",
       "      <td>2018.0</td>\n",
       "      <td>[[1.618988959], [4.143346368], [6.807333444], ...</td>\n",
       "      <td>inv_log-quartic</td>\n",
       "      <td>5.462978</td>\n",
       "      <td>-0.061456</td>\n",
       "    </tr>\n",
       "    <tr>\n",
       "      <th>1143</th>\n",
       "      <td>refoxdb/r45/32f21b63fc2c6fe6b8d606e5592333fee9...</td>\n",
       "      <td>nan</td>\n",
       "      <td>1958.0</td>\n",
       "      <td>[[1.2237537367419], [1.4475592488171], [1.6968...</td>\n",
       "      <td>quartic-quadratic</td>\n",
       "      <td>652.408518</td>\n",
       "      <td>1.230147</td>\n",
       "    </tr>\n",
       "    <tr>\n",
       "      <th>1144</th>\n",
       "      <td>refoxdb/r45/2db882b4d7be278c0a56d242c7393cf7a0...</td>\n",
       "      <td>nan</td>\n",
       "      <td>1958.0</td>\n",
       "      <td>[[1.223753737], [1.447559249], [1.69680282], [...</td>\n",
       "      <td>quartic-quadratic</td>\n",
       "      <td>652.408518</td>\n",
       "      <td>1.230147</td>\n",
       "    </tr>\n",
       "    <tr>\n",
       "      <th>1145</th>\n",
       "      <td>refoxdb/r45/6d9d024998c198abb891f4ec04a6c6ca96...</td>\n",
       "      <td>nan</td>\n",
       "      <td>2021.0</td>\n",
       "      <td>[[0.10658001], [0.319072631], [0.595030341], [...</td>\n",
       "      <td>linear-log</td>\n",
       "      <td>2.152187</td>\n",
       "      <td>10.785201</td>\n",
       "    </tr>\n",
       "  </tbody>\n",
       "</table>\n",
       "<p>1146 rows × 7 columns</p>\n",
       "</div>"
      ],
      "text/plain": [
       "                                                  squid input.Names  \\\n",
       "0     refoxdb/r36/092654417811518bce4306f5f68daa15f1...               \n",
       "1     refoxdb/r36/6e4478033d807d59d38a62d9283941fc21...               \n",
       "2     refoxdb/r36/146044012b19a1ec2d08a5fe50b577320a...               \n",
       "3     refoxdb/r36/64f81374a2de1b89471602286050cb9beb...               \n",
       "4     refoxdb/r36/1883fdc89ff5a3cba9d76a4a0db838cb24...               \n",
       "...                                                 ...         ...   \n",
       "1141  refoxdb/r45/9f0306b2f0a7c1c328d6f2cc905ce46947...         nan   \n",
       "1142  refoxdb/r45/976298b93ef60e865e20ca4a3b3bea67f8...         nan   \n",
       "1143  refoxdb/r45/32f21b63fc2c6fe6b8d606e5592333fee9...         nan   \n",
       "1144  refoxdb/r45/2db882b4d7be278c0a56d242c7393cf7a0...         nan   \n",
       "1145  refoxdb/r45/6d9d024998c198abb891f4ec04a6c6ca96...         nan   \n",
       "\n",
       "      input.Year_Publish                                        output.time  \\\n",
       "0                 1957.0  [[0.099675692101747], [0.22934640782052], [0.3...   \n",
       "1                 1956.0  [[66.570825159081], [167.60178020205], [386.83...   \n",
       "2                 1956.0  [[40.429994444907], [96.341075487465], [152.99...   \n",
       "3                 1956.0  [[24.92329109091], [122.25778256367], [274.127...   \n",
       "4                 1956.0  [[39.97604506481], [53.858512309028], [117.757...   \n",
       "...                  ...                                                ...   \n",
       "1141              1976.0  [[0.215592709], [0.524780556], [0.87888956], [...   \n",
       "1142              2018.0  [[1.618988959], [4.143346368], [6.807333444], ...   \n",
       "1143              1958.0  [[1.2237537367419], [1.4475592488171], [1.6968...   \n",
       "1144              1958.0  [[1.223753737], [1.447559249], [1.69680282], [...   \n",
       "1145              2021.0  [[0.10658001], [0.319072631], [0.595030341], [...   \n",
       "\n",
       "     output.min_BIC_model  output.Time_switch_point  output.Rate_constant_1  \n",
       "0     quadratic-quadratic                  1.706563               45.572613  \n",
       "1        linear-quadratic               6055.000000                0.004567  \n",
       "2           linear-linear               1015.000000                0.034316  \n",
       "3        quadratic-linear               2335.000000                0.355401  \n",
       "4        quadratic-linear               1752.000000                1.278545  \n",
       "...                   ...                       ...                     ...  \n",
       "1141          quartic-log                  3.968007                2.206352  \n",
       "1142      inv_log-quartic                  5.462978               -0.061456  \n",
       "1143    quartic-quadratic                652.408518                1.230147  \n",
       "1144    quartic-quadratic                652.408518                1.230147  \n",
       "1145           linear-log                  2.152187               10.785201  \n",
       "\n",
       "[1146 rows x 7 columns]"
      ]
     },
     "metadata": {},
     "output_type": "display_data"
    }
   ],
   "source": [
    "search = {\n",
    "    'tool':tool,\n",
    "    'filters':json.dumps([\n",
    "        {'field':'input.Temp','operation':'>=','value':'0'},     # Filters included to query [Everything] in the cached database    \n",
    "        #{'field':'input.Year_Publish','operation':'>=','value':'1962'},   # EXAMPLE of how to filter with an input\n",
    "    ]),\n",
    "    'results':json.dumps(['input.Names', 'input.Year_Publish','output.time', 'output.min_BIC_model', 'output.Time_switch_point',\n",
    "                          'output.Rate_constant_1', 'output.Rate_constant_1']),    \n",
    "                        # Selected Parameters (Inputs/Outputs) that will be requested from the query\n",
    "                        # (you can request anything from the previous cell -- make sure you add \"input.\" or \"output.\" appropriately)\n",
    "    'limit':3500,    \n",
    "    'revision':0,\n",
    " }\n",
    "\n",
    "req_json = session.requestPost('dbexplorer/dbexplorer/search?simtool=true', data=search, timeout=20) # QUERY\n",
    "results = req_json.json() # Turning query into JSON file\n",
    "#print(results)\n",
    "\n",
    "dataframe = pd.DataFrame(results['results']).dropna() # Deleting columns with NaNs (you can comment this out)\n",
    "dataframe = dataframe.reset_index(drop=True)\n",
    "\n",
    "print(dataframe.shape)\n",
    "display(dataframe) # Complete Dataset"
   ]
  },
  {
   "cell_type": "code",
   "execution_count": null,
   "id": "81eaffdf",
   "metadata": {},
   "outputs": [],
   "source": []
  }
 ],
 "metadata": {
  "kernelspec": {
   "display_name": "base",
   "language": "python",
   "name": "python3"
  },
  "language_info": {
   "codemirror_mode": {
    "name": "ipython",
    "version": 3
   },
   "file_extension": ".py",
   "mimetype": "text/x-python",
   "name": "python",
   "nbconvert_exporter": "python",
   "pygments_lexer": "ipython3",
   "version": "3.9.13"
  },
  "vscode": {
   "interpreter": {
    "hash": "c6e4e9f98eb68ad3b7c296f83d20e6de614cb42e90992a65aa266555a3137d0d"
   }
  }
 },
 "nbformat": 4,
 "nbformat_minor": 5
}
