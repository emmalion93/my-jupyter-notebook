{
 "cells": [
  {
   "cell_type": "markdown",
   "metadata": {},
   "source": [
    "# Introducing nanoHUB's SimTools #\n",
    "\n",
    "This notebook is a quick start guide to SimTools, nanoHUB's new way of delivering online simulations.\n",
    "\n",
    "SimTools in a nutshell:\n",
    "\n",
    " * Define the inputs, outputs, and the compute required to generate outputs from inputs\n",
    "   * Inputs can include ranges and units that are checked before running\n",
    " * SimTools can invoke function calls, simple scripts or run parallel jobs on HPC resources\n",
    " * The SimToolLib library validates inputs and outputs and performs automatic unit conversion\n",
    " * Succesful runs are added to nanoHUB's simulation cache\n",
    " * If a user requests a previosuly executed run, we pull it from the cache with no delays and saving computing resources\n",
    "\n",
    "The documentation for SimTools can be found [here](https://simtool.readthedocs.io/en/latest/).\n",
    "\n",
    "This notebook invokes a SimTool that defines ALL possible types of inputs and outputs. You can see the actual SimTool [here](./simtool/srimloader.ipynb).\n",
    " "
   ]
  },
  {
   "cell_type": "markdown",
   "metadata": {},
   "source": [
    "## Step 1. Setting things up ##"
   ]
  },
  {
   "cell_type": "code",
   "execution_count": 33,
   "metadata": {},
   "outputs": [
    {
     "name": "stdout",
     "output_type": "stream",
     "text": [
      "The yamlmagic extension is already loaded. To reload it, use:\n",
      "  %reload_ext yamlmagic\n"
     ]
    }
   ],
   "source": [
    "# We will import various libraries including key elements of nanoHUB's simtool library\n",
    "%load_ext yamlmagic\n",
    "\n",
    "#import os\n",
    "#import numpy as np\n",
    "\n",
    "from simtool import findInstalledSimToolNotebooks,searchForSimTool\n",
    "from simtool import getSimToolInputs,getSimToolOutputs,Run"
   ]
  },
  {
   "cell_type": "code",
   "execution_count": 34,
   "metadata": {},
   "outputs": [
    {
     "name": "stdout",
     "output_type": "stream",
     "text": [
      "      notebookPath = /home/nanohub/xwg921/srinjectiontool/devtools/Help--Steven's Example/simtool/srimloader.ipynb\n",
      "       simToolName = srimloader\n",
      "   simToolRevision = None\n",
      "         published = False\n"
     ]
    }
   ],
   "source": [
    "# Identify the simtool of interest (in this case srimloader) and retrieve its status\n",
    "simToolName = \"srimloader\"\n",
    "simToolLocation = searchForSimTool(simToolName)\n",
    "for key in simToolLocation.keys():\n",
    "    print(\"%18s = %s\" % (key,simToolLocation[key]))"
   ]
  },
  {
   "cell_type": "markdown",
   "metadata": {},
   "source": [
    "## Step 2. Inputs ##"
   ]
  },
  {
   "cell_type": "code",
   "execution_count": 35,
   "metadata": {
    "scrolled": true
   },
   "outputs": [
    {
     "data": {
      "text/plain": [
       "textFile:\n",
       "    type: Text\n",
       "    description: Text supplied as file"
      ]
     },
     "execution_count": 35,
     "metadata": {},
     "output_type": "execute_result"
    }
   ],
   "source": [
    "# get the list of inputs for the simtool. This is an exhausitive list of inputs for SimTools.\n",
    "inputs = getSimToolInputs(simToolLocation)\n",
    "inputs"
   ]
  },
  {
   "cell_type": "code",
   "execution_count": 36,
   "metadata": {
    "scrolled": true
   },
   "outputs": [
    {
     "data": {
      "text/plain": [
       "textFile:\n",
       "    type: Text\n",
       "    description: Text supplied as file"
      ]
     },
     "execution_count": 36,
     "metadata": {},
     "output_type": "execute_result"
    }
   ],
   "source": [
    "inputs['textFile'].file = \"balloons.txt\"\n",
    "\n",
    "inputs"
   ]
  },
  {
   "cell_type": "code",
   "execution_count": 37,
   "metadata": {
    "scrolled": true
   },
   "outputs": [
    {
     "data": {
      "text/plain": [
       "fileHeader:\n",
       "    type: Text\n",
       "    description: First line of input file"
      ]
     },
     "execution_count": 37,
     "metadata": {},
     "output_type": "execute_result"
    }
   ],
   "source": [
    "# We can explore the outputs the SimTool will produce before running the simulation.\n",
    "# Of course, at this point all output variables are empty\n",
    "outputs = getSimToolOutputs(simToolLocation)\n",
    "outputs"
   ]
  },
  {
   "cell_type": "markdown",
   "metadata": {},
   "source": [
    "## Step 3. Run the SimTool ##"
   ]
  },
  {
   "cell_type": "code",
   "execution_count": 38,
   "metadata": {
    "scrolled": false
   },
   "outputs": [
    {
     "name": "stdout",
     "output_type": "stream",
     "text": [
      "runname   = fec041c98606455d9c67f4a8baf2cff2\n",
      "outdir    = RUNS/fec041c98606455d9c67f4a8baf2cff2\n",
      "cached    = False\n",
      "submit --local /apps/share64/debian10/anaconda/anaconda-7/bin/papermill -f\n",
      "       inputs.yaml /home/nanohub/xwg921/srinjectiontool/devtools/Help--Steven's\n",
      "       Example/simtool/srimloader.ipynb srimloader.ipynb\n"
     ]
    },
    {
     "name": "stderr",
     "output_type": "stream",
     "text": [
      "Input Notebook:  /home/nanohub/xwg921/srinjectiontool/devtools/Help--Steven's Example/simtool/srimloader.ipynb\n",
      "Output Notebook: srimloader.ipynb\n",
      "Executing:   0%|          | 0/16 [00:00<?, ?cell/s]Executing notebook with kernel: python3\n",
      "Executing: 100%|██████████| 16/16 [00:05<00:00,  3.05cell/s]\n"
     ]
    }
   ],
   "source": [
    "r = Run(simToolLocation,inputs)"
   ]
  },
  {
   "cell_type": "markdown",
   "metadata": {},
   "source": [
    "## Step 4. Get the outputs ##"
   ]
  },
  {
   "cell_type": "code",
   "execution_count": 39,
   "metadata": {},
   "outputs": [
    {
     "data": {
      "text/html": [
       "<div>\n",
       "<style scoped>\n",
       "    .dataframe tbody tr th:only-of-type {\n",
       "        vertical-align: middle;\n",
       "    }\n",
       "\n",
       "    .dataframe tbody tr th {\n",
       "        vertical-align: top;\n",
       "    }\n",
       "\n",
       "    .dataframe thead th {\n",
       "        text-align: right;\n",
       "    }\n",
       "</style>\n",
       "<table border=\"1\" class=\"dataframe\">\n",
       "  <thead>\n",
       "    <tr style=\"text-align: right;\">\n",
       "      <th></th>\n",
       "      <th>name</th>\n",
       "      <th>data</th>\n",
       "      <th>encoder</th>\n",
       "      <th>display</th>\n",
       "      <th>filename</th>\n",
       "    </tr>\n",
       "  </thead>\n",
       "  <tbody>\n",
       "    <tr>\n",
       "      <th>0</th>\n",
       "      <td>simToolSaveErrorOccurred</td>\n",
       "      <td>0</td>\n",
       "      <td>text</td>\n",
       "      <td>None</td>\n",
       "      <td>srimloader.ipynb</td>\n",
       "    </tr>\n",
       "    <tr>\n",
       "      <th>1</th>\n",
       "      <td>simToolAllOutputsSaved</td>\n",
       "      <td>1</td>\n",
       "      <td>text</td>\n",
       "      <td>None</td>\n",
       "      <td>srimloader.ipynb</td>\n",
       "    </tr>\n",
       "    <tr>\n",
       "      <th>2</th>\n",
       "      <td>fileHeader</td>\n",
       "      <td>\"Balloons are pretty and come in different col...</td>\n",
       "      <td>text</td>\n",
       "      <td>None</td>\n",
       "      <td>srimloader.ipynb</td>\n",
       "    </tr>\n",
       "  </tbody>\n",
       "</table>\n",
       "</div>"
      ],
      "text/plain": [
       "                       name  \\\n",
       "0  simToolSaveErrorOccurred   \n",
       "1    simToolAllOutputsSaved   \n",
       "2                fileHeader   \n",
       "\n",
       "                                                data encoder display  \\\n",
       "0                                                  0    text    None   \n",
       "1                                                  1    text    None   \n",
       "2  \"Balloons are pretty and come in different col...    text    None   \n",
       "\n",
       "           filename  \n",
       "0  srimloader.ipynb  \n",
       "1  srimloader.ipynb  \n",
       "2  srimloader.ipynb  "
      ]
     },
     "execution_count": 39,
     "metadata": {},
     "output_type": "execute_result"
    }
   ],
   "source": [
    "r.getResultSummary()"
   ]
  },
  {
   "cell_type": "code",
   "execution_count": 40,
   "metadata": {},
   "outputs": [
    {
     "name": "stdout",
     "output_type": "stream",
     "text": [
      "Balloons are pretty and come in different colors, different shapes, different sizes, and they can even adjust sizes as needed.\n"
     ]
    }
   ],
   "source": [
    "firstLine = r.read('fileHeader')\n",
    "print(firstLine)"
   ]
  }
 ],
 "metadata": {
  "kernelspec": {
   "display_name": "Python 3 (ipykernel)",
   "language": "python",
   "name": "python3"
  },
  "language_info": {
   "codemirror_mode": {
    "name": "ipython",
    "version": 3
   },
   "file_extension": ".py",
   "mimetype": "text/x-python",
   "name": "python",
   "nbconvert_exporter": "python",
   "pygments_lexer": "ipython3",
   "version": "3.8.10"
  }
 },
 "nbformat": 4,
 "nbformat_minor": 2
}
