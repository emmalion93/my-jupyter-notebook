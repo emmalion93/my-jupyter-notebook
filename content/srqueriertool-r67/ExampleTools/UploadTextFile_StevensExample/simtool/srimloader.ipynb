{
 "cells": [
  {
   "cell_type": "markdown",
   "id": "c3b04b83",
   "metadata": {
    "papermill": {
     "duration": 0.007016,
     "end_time": "2022-10-03T16:40:53.485592",
     "exception": false,
     "start_time": "2022-10-03T16:40:53.478576",
     "status": "completed"
    },
    "tags": []
   },
   "source": [
    "# Introducing nanoHUB's SimTools #\n",
    "\n",
    "This notebook is a quick start guide to SimTools, nanoHUB new way of delivering online simulations.\n",
    "\n",
    "SimTools in a nutshell\n",
    "\n",
    " * Define the inputs, outputs, and the compute required to generate outputs from inputs\n",
    "   * Inputs can include ranges and units that are checked before running\n",
    " * SimTools can invoke parallel jobs running on HPC resources, a simple script, or evaluating a function call\n",
    " * The SimToolLib library validates inputs and outputs, including automatic unit conversion\n",
    " * Succesful runs are added to nanoHUB's simulation cache\n",
    " * If a user requests a previosuly executed run, we pull it from the cache with no delays and saving computing resources\n",
    " * SimTools can be invoked from graphical user interfaces (example here) or from a scientific/engineering script (example here)\n",
    " \n",
    "The documentation for SimTools can be found [here](https://simtool.readthedocs.io/en/latest/).\n",
    " \n",
    "This notebook demonstrates a simple SimTools that demonstrates how to read the first line of a loaded file."
   ]
  },
  {
   "cell_type": "markdown",
   "id": "b47d08f0",
   "metadata": {
    "papermill": {
     "duration": 0.005158,
     "end_time": "2022-10-03T16:40:53.496432",
     "exception": false,
     "start_time": "2022-10-03T16:40:53.491274",
     "status": "completed"
    },
    "tags": []
   },
   "source": [
    "## Step 1. Provide a description of your tool ##\n",
    "This cell is optional but highly recommended. The provided description is displayed when returning SimTool search results."
   ]
  },
  {
   "cell_type": "code",
   "execution_count": 3,
   "id": "49728bfa",
   "metadata": {
    "execution": {
     "iopub.execute_input": "2022-10-03T16:40:53.508609Z",
     "iopub.status.busy": "2022-10-03T16:40:53.508115Z",
     "iopub.status.idle": "2022-10-03T16:40:53.519304Z",
     "shell.execute_reply": "2022-10-03T16:40:53.518473Z"
    },
    "papermill": {
     "duration": 0.020301,
     "end_time": "2022-10-03T16:40:53.521893",
     "exception": false,
     "start_time": "2022-10-03T16:40:53.501592",
     "status": "completed"
    },
    "tags": [
     "DESCRIPTION"
    ]
   },
   "outputs": [],
   "source": [
    "DESCRIPTION = \"\"\"Read and report the first line of a text file\"\"\""
   ]
  },
  {
   "cell_type": "code",
   "execution_count": 4,
   "id": "d429f421",
   "metadata": {
    "execution": {
     "iopub.execute_input": "2022-10-03T16:40:53.534088Z",
     "iopub.status.busy": "2022-10-03T16:40:53.533694Z",
     "iopub.status.idle": "2022-10-03T16:40:57.520951Z",
     "shell.execute_reply": "2022-10-03T16:40:57.519811Z"
    },
    "papermill": {
     "duration": 3.996684,
     "end_time": "2022-10-03T16:40:57.523985",
     "exception": false,
     "start_time": "2022-10-03T16:40:53.527301",
     "status": "completed"
    },
    "tags": []
   },
   "outputs": [],
   "source": [
    "%load_ext yamlmagic\n",
    "\n",
    "from simtool import DB\n",
    "import json"
   ]
  },
  {
   "cell_type": "markdown",
   "id": "3e2587d9",
   "metadata": {
    "papermill": {
     "duration": 0.005538,
     "end_time": "2022-10-03T16:40:57.535666",
     "exception": false,
     "start_time": "2022-10-03T16:40:57.530128",
     "status": "completed"
    },
    "tags": []
   },
   "source": [
    "## Step 2. Define all inputs. Including defaults, valid ranges, and units is strongly encouraged ##"
   ]
  },
  {
   "cell_type": "code",
   "execution_count": 5,
   "id": "afd27caf",
   "metadata": {
    "execution": {
     "iopub.execute_input": "2022-10-03T16:40:57.548616Z",
     "iopub.status.busy": "2022-10-03T16:40:57.547853Z",
     "iopub.status.idle": "2022-10-03T16:40:57.564450Z",
     "shell.execute_reply": "2022-10-03T16:40:57.563519Z"
    },
    "papermill": {
     "duration": 0.025832,
     "end_time": "2022-10-03T16:40:57.566941",
     "exception": false,
     "start_time": "2022-10-03T16:40:57.541109",
     "status": "completed"
    },
    "tags": []
   },
   "outputs": [
    {
     "data": {
      "application/javascript": [
       "\n",
       "            require(\n",
       "                [\n",
       "                    \"notebook/js/codecell\",\n",
       "                    \"codemirror/mode/yaml/yaml\"\n",
       "                ],\n",
       "                function(cc){\n",
       "                    cc.CodeCell.options_default.highlight_modes.magic_yaml = {\n",
       "                        reg: [\"^%%yaml\"]\n",
       "                    }\n",
       "                }\n",
       "            );\n",
       "            "
      ],
      "text/plain": [
       "<IPython.core.display.Javascript object>"
      ]
     },
     "metadata": {},
     "output_type": "display_data"
    }
   ],
   "source": [
    "%%yaml INPUTS\n",
    "\n",
    "textFile:\n",
    "    type: Text\n",
    "    description: Text supplied as file\n"
   ]
  },
  {
   "cell_type": "code",
   "execution_count": 6,
   "id": "0473dd1a",
   "metadata": {
    "execution": {
     "iopub.execute_input": "2022-10-03T16:40:57.580212Z",
     "iopub.status.busy": "2022-10-03T16:40:57.579792Z",
     "iopub.status.idle": "2022-10-03T16:40:57.583649Z",
     "shell.execute_reply": "2022-10-03T16:40:57.582696Z"
    },
    "papermill": {
     "duration": 0.013005,
     "end_time": "2022-10-03T16:40:57.586118",
     "exception": false,
     "start_time": "2022-10-03T16:40:57.573113",
     "status": "completed"
    },
    "tags": [
     "FILES"
    ]
   },
   "outputs": [],
   "source": [
    "# If you simulation require additional files (e.g. configuration files), list them here.  The files\n",
    "# should exist in the same directory (simtool) as this notebook.\n",
    "# This cell is optional.  The tag FILES and variable EXTRA_FILES must specified exactly as given here.\n",
    "EXTRA_FILES = []"
   ]
  },
  {
   "cell_type": "code",
   "execution_count": 7,
   "id": "2f6d7da0",
   "metadata": {
    "execution": {
     "iopub.execute_input": "2022-10-03T16:40:57.599229Z",
     "iopub.status.busy": "2022-10-03T16:40:57.598815Z",
     "iopub.status.idle": "2022-10-03T16:40:57.603123Z",
     "shell.execute_reply": "2022-10-03T16:40:57.602281Z"
    },
    "papermill": {
     "duration": 0.01348,
     "end_time": "2022-10-03T16:40:57.605589",
     "exception": false,
     "start_time": "2022-10-03T16:40:57.592109",
     "status": "completed"
    },
    "tags": [
     "parameters"
    ]
   },
   "outputs": [],
   "source": [
    "from simtool import getValidatedInputs\n",
    "\n",
    "defaultInputs = getValidatedInputs(INPUTS)\n",
    "if defaultInputs:\n",
    "    globals().update(defaultInputs)"
   ]
  },
  {
   "cell_type": "markdown",
   "id": "785648b8",
   "metadata": {
    "papermill": {
     "duration": 0.005538,
     "end_time": "2022-10-03T16:40:57.535666",
     "exception": false,
     "start_time": "2022-10-03T16:40:57.530128",
     "status": "completed"
    },
    "tags": []
   },
   "source": [
    "## Step 3. Define all outputs. Including units is strongly encouraged ##"
   ]
  },
  {
   "cell_type": "code",
   "execution_count": 8,
   "id": "a7c41612",
   "metadata": {
    "execution": {
     "iopub.execute_input": "2022-10-03T16:40:57.640088Z",
     "iopub.status.busy": "2022-10-03T16:40:57.639662Z",
     "iopub.status.idle": "2022-10-03T16:40:57.646185Z",
     "shell.execute_reply": "2022-10-03T16:40:57.645345Z"
    },
    "papermill": {
     "duration": 0.0183,
     "end_time": "2022-10-03T16:40:57.648856",
     "exception": false,
     "start_time": "2022-10-03T16:40:57.630556",
     "status": "completed"
    },
    "tags": []
   },
   "outputs": [
    {
     "data": {
      "application/javascript": [
       "\n",
       "            require(\n",
       "                [\n",
       "                    \"notebook/js/codecell\",\n",
       "                    \"codemirror/mode/yaml/yaml\"\n",
       "                ],\n",
       "                function(cc){\n",
       "                    cc.CodeCell.options_default.highlight_modes.magic_yaml = {\n",
       "                        reg: [\"^%%yaml\"]\n",
       "                    }\n",
       "                }\n",
       "            );\n",
       "            "
      ],
      "text/plain": [
       "<IPython.core.display.Javascript object>"
      ]
     },
     "metadata": {},
     "output_type": "display_data"
    }
   ],
   "source": [
    "%%yaml OUTPUTS\n",
    "\n",
    "fileHeader:\n",
    "    type: Text\n",
    "    description: First line of input file\n"
   ]
  },
  {
   "cell_type": "code",
   "execution_count": 9,
   "id": "c83c39df",
   "metadata": {
    "execution": {
     "iopub.execute_input": "2022-10-03T16:40:57.663075Z",
     "iopub.status.busy": "2022-10-03T16:40:57.662667Z",
     "iopub.status.idle": "2022-10-03T16:40:57.674955Z",
     "shell.execute_reply": "2022-10-03T16:40:57.674020Z"
    },
    "papermill": {
     "duration": 0.021959,
     "end_time": "2022-10-03T16:40:57.677479",
     "exception": false,
     "start_time": "2022-10-03T16:40:57.655520",
     "status": "completed"
    },
    "tags": []
   },
   "outputs": [
    {
     "data": {
      "application/scrapbook.scrap.text+json": {
       "data": "0",
       "encoder": "text",
       "name": "simToolSaveErrorOccurred",
       "version": 1
      }
     },
     "metadata": {
      "scrapbook": {
       "data": true,
       "display": false,
       "name": "simToolSaveErrorOccurred"
      }
     },
     "output_type": "display_data"
    },
    {
     "data": {
      "application/scrapbook.scrap.text+json": {
       "data": "0",
       "encoder": "text",
       "name": "simToolAllOutputsSaved",
       "version": 1
      }
     },
     "metadata": {
      "scrapbook": {
       "data": true,
       "display": false,
       "name": "simToolAllOutputsSaved"
      }
     },
     "output_type": "display_data"
    }
   ],
   "source": [
    "db = DB(OUTPUTS)"
   ]
  },
  {
   "cell_type": "markdown",
   "id": "22f88c73",
   "metadata": {
    "papermill": {
     "duration": 0.005538,
     "end_time": "2022-10-03T16:40:57.535666",
     "exception": false,
     "start_time": "2022-10-03T16:40:57.530128",
     "status": "completed"
    },
    "tags": []
   },
   "source": [
    "## Step 4. Do the calculation ##"
   ]
  },
  {
   "cell_type": "code",
   "execution_count": 10,
   "id": "3d578573",
   "metadata": {
    "execution": {
     "iopub.execute_input": "2022-10-03T16:40:57.693061Z",
     "iopub.status.busy": "2022-10-03T16:40:57.692655Z",
     "iopub.status.idle": "2022-10-03T16:40:57.697697Z",
     "shell.execute_reply": "2022-10-03T16:40:57.696749Z"
    },
    "papermill": {
     "duration": 0.015677,
     "end_time": "2022-10-03T16:40:57.700154",
     "exception": false,
     "start_time": "2022-10-03T16:40:57.684477",
     "status": "completed"
    },
    "tags": []
   },
   "outputs": [
    {
     "ename": "TypeError",
     "evalue": "'NoneType' object is not subscriptable",
     "output_type": "error",
     "traceback": [
      "\u001b[0;31m---------------------------------------------------------------------------\u001b[0m",
      "\u001b[0;31mTypeError\u001b[0m                                 Traceback (most recent call last)",
      "\u001b[0;32m<ipython-input-10-19210c99ebc5>\u001b[0m in \u001b[0;36m<module>\u001b[0;34m\u001b[0m\n\u001b[1;32m      1\u001b[0m \u001b[0;31m# The input text is supplied as a file name\u001b[0m\u001b[0;34m\u001b[0m\u001b[0;34m\u001b[0m\u001b[0;34m\u001b[0m\u001b[0m\n\u001b[1;32m      2\u001b[0m \u001b[0;31m# strip off the leading file://\u001b[0m\u001b[0;34m\u001b[0m\u001b[0;34m\u001b[0m\u001b[0;34m\u001b[0m\u001b[0m\n\u001b[0;32m----> 3\u001b[0;31m \u001b[0minputFileaPath\u001b[0m \u001b[0;34m=\u001b[0m \u001b[0mtextFile\u001b[0m\u001b[0;34m[\u001b[0m\u001b[0;36m7\u001b[0m\u001b[0;34m:\u001b[0m\u001b[0;34m]\u001b[0m\u001b[0;34m\u001b[0m\u001b[0;34m\u001b[0m\u001b[0m\n\u001b[0m\u001b[1;32m      4\u001b[0m \u001b[0;32mwith\u001b[0m \u001b[0mopen\u001b[0m\u001b[0;34m(\u001b[0m\u001b[0minputFileaPath\u001b[0m\u001b[0;34m,\u001b[0m\u001b[0;34m'r'\u001b[0m\u001b[0;34m)\u001b[0m \u001b[0;32mas\u001b[0m \u001b[0mfp\u001b[0m\u001b[0;34m:\u001b[0m\u001b[0;34m\u001b[0m\u001b[0;34m\u001b[0m\u001b[0m\n\u001b[1;32m      5\u001b[0m    \u001b[0minputFileText\u001b[0m \u001b[0;34m=\u001b[0m \u001b[0mfp\u001b[0m\u001b[0;34m.\u001b[0m\u001b[0mreadlines\u001b[0m\u001b[0;34m(\u001b[0m\u001b[0;34m)\u001b[0m\u001b[0;34m\u001b[0m\u001b[0;34m\u001b[0m\u001b[0m\n",
      "\u001b[0;31mTypeError\u001b[0m: 'NoneType' object is not subscriptable"
     ]
    }
   ],
   "source": [
    "# The input text is supplied as a file name\n",
    "# strip off the leading file://\n",
    "inputFileaPath = textFile[7:]\n",
    "with open(inputFileaPath,'r') as fp:\n",
    "   data = json.load(f)"
   ]
  },
  {
   "cell_type": "markdown",
   "id": "a20a0323",
   "metadata": {
    "papermill": {
     "duration": 0.005538,
     "end_time": "2022-10-03T16:40:57.535666",
     "exception": false,
     "start_time": "2022-10-03T16:40:57.530128",
     "status": "completed"
    },
    "tags": []
   },
   "source": [
    "## Step 5. Save the results ##"
   ]
  },
  {
   "cell_type": "code",
   "execution_count": null,
   "id": "17739797",
   "metadata": {
    "execution": {
     "iopub.execute_input": "2022-10-03T16:40:57.715730Z",
     "iopub.status.busy": "2022-10-03T16:40:57.715328Z",
     "iopub.status.idle": "2022-10-03T16:40:57.727012Z",
     "shell.execute_reply": "2022-10-03T16:40:57.726094Z"
    },
    "papermill": {
     "duration": 0.022267,
     "end_time": "2022-10-03T16:40:57.729551",
     "exception": false,
     "start_time": "2022-10-03T16:40:57.707284",
     "status": "completed"
    },
    "tags": []
   },
   "outputs": [],
   "source": [
    "db.save('fileHeader',data)"
   ]
  }
 ],
 "metadata": {
  "celltoolbar": "Tags",
  "kernelspec": {
   "display_name": "Python 3 (ipykernel)",
   "language": "python",
   "name": "python3"
  },
  "language_info": {
   "codemirror_mode": {
    "name": "ipython",
    "version": 3
   },
   "file_extension": ".py",
   "mimetype": "text/x-python",
   "name": "python",
   "nbconvert_exporter": "python",
   "pygments_lexer": "ipython3",
   "version": "3.8.10"
  },
  "papermill": {
   "default_parameters": {},
   "duration": 7.464702,
   "end_time": "2022-10-03T16:40:59.356972",
   "environment_variables": {},
   "exception": null,
   "input_path": "/home/nanohub/clarksm/notebooks/Simtools/Srim/srimloader/simtool/srimloader.ipynb",
   "output_path": "srimloader.ipynb",
   "parameters": {
    "textFile": "file://.notebookInputFiles/balloons.txt"
   },
   "start_time": "2022-10-03T16:40:51.892270",
   "version": "2.3.4"
  }
 },
 "nbformat": 4,
 "nbformat_minor": 5
}
