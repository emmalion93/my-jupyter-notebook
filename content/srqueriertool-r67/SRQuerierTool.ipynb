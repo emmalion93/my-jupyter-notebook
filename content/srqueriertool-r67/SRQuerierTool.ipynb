{
 "cells": [
  {
   "cell_type": "markdown",
   "metadata": {},
   "source": [
    "# SR Querier Tool (SQNT)\n",
    "\n",
    "## Version: 2.0\n",
    "\n",
    "The SRQuerierTool allows users to quickly query stored SRIM calculations that are found by reading imported NSRL Stackup Tool data."
   ]
  },
  {
   "cell_type": "markdown",
   "metadata": {},
   "source": [
    "<div class=\"alert alert-block alert-warning\">\n",
    "<b>Current NSRL StackUp Tool Version:</b> Version 7, January 2023 \n",
    "</div>"
   ]
  },
  {
   "cell_type": "code",
   "execution_count": 1,
   "metadata": {},
   "outputs": [
    {
     "data": {
      "text/html": [
       "\n",
       "            <style>\n",
       "                .layer_input input {\n",
       "                    background-color: #F1EB9D !important;\n",
       "                }\n",
       "                .top_row {\n",
       "                    font-family: Verdana, sans-serif;\n",
       "                    font-size: 95%;\n",
       "                    font-weight: bold;\n",
       "                }\n",
       "                .top_row_dd1 select {\n",
       "                    background-color: #AAE1FC !important;\n",
       "                }\n",
       "                .top_row_input input {\n",
       "                    background-color: #FFE1E1 !important;\n",
       "                }\n",
       "                .calcd_value_generic_nocolor input {\n",
       "                    font-family: DejaVu Sans Mono, monospace;\n",
       "                    font-weight: 950;\n",
       "                }\n",
       "                .mat_dd_layer01 select { background-color: #99FFFA !important; }\n",
       "                .mat_dd_layer02 select { background-color: #99FFC8 !important; }\n",
       "                .mat_dd_layer03 select { background-color: #99FF96 !important; }\n",
       "                .mat_dd_layer04 select { background-color: #99FF64 !important; }\n",
       "                .mat_dd_layer05 select { background-color: #99FF32 !important; }\n",
       "            </style>\n",
       "        "
      ],
      "text/plain": [
       "<IPython.core.display.HTML object>"
      ]
     },
     "metadata": {},
     "output_type": "display_data"
    },
    {
     "data": {
      "text/html": [
       "\n",
       "            <style>\n",
       "                .top_row_dd2 select {\n",
       "                    background-color: #FFE1E1 !important;\n",
       "                }\n",
       "                .calcd_value_generic input {\n",
       "                    background-color: #FFD13F !important;\n",
       "                    font-family: DejaVu Sans Mono, monospace;\n",
       "                    font-weight: 950;\n",
       "                }\n",
       "            </style>\n",
       "        "
      ],
      "text/plain": [
       "<IPython.core.display.HTML object>"
      ]
     },
     "metadata": {},
     "output_type": "display_data"
    },
    {
     "data": {
      "application/vnd.jupyter.widget-view+json": {
       "model_id": "e74c791a03ac408b80511d761162b8c6",
       "version_major": 2,
       "version_minor": 0
      },
      "text/plain": [
       "ISEEUWidget(children=(MultiQuery(children=(HBox(children=(Dropdown(_dom_classes=('top_row_dd1',), description=…"
      ]
     },
     "execution_count": 1,
     "metadata": {},
     "output_type": "execute_result"
    }
   ],
   "source": [
    "import ISEEU\n",
    "ISEEU.ISEEUWidget()\n"
   ]
  },
  {
   "cell_type": "code",
   "execution_count": null,
   "metadata": {},
   "outputs": [],
   "source": []
  }
 ],
 "metadata": {
  "kernelspec": {
   "display_name": "Python 3 (ipykernel)",
   "language": "python",
   "name": "python3"
  },
  "language_info": {
   "codemirror_mode": {
    "name": "ipython",
    "version": 3
   },
   "file_extension": ".py",
   "mimetype": "text/x-python",
   "name": "python",
   "nbconvert_exporter": "python",
   "pygments_lexer": "ipython3",
   "version": "3.9.13"
  },
  "vscode": {
   "interpreter": {
    "hash": "08eac26dc1f80337b7d87e94e7159a5bad95c2e85f47efef91c61359b3afbfe9"
   }
  }
 },
 "nbformat": 4,
 "nbformat_minor": 4
}
